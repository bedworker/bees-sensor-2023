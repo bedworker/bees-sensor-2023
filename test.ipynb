{
 "cells": [
  {
   "cell_type": "markdown",
   "metadata": {},
   "source": [
    "# MLX90640 Thermal Camera with CircuitPython\n",
    "[Click here to visit the guide for this notebook!](https://learn.adafruit.com/jupyter-on-any-computer-with-circuitpython-and-mcp2221-ft232h/thermal-camera)"
   ]
  },
  {
   "cell_type": "code",
   "execution_count": null,
   "metadata": {},
   "outputs": [
    {
     "ename": "",
     "evalue": "",
     "output_type": "error",
     "traceback": [
      "\u001b[1;31mFailed to start the Kernel. \n",
      "\u001b[1;31mThe kernel died. Error: ... View Jupyter <a href='command:jupyter.viewOutput'>log</a> for further details."
     ]
    }
   ],
   "source": [
    "# Set an Environment Variable so Adafruit Blinka knows we're using the MCP2221\n",
    "import os\n",
    "# os.environ[\"BLINKA_MCP2221\"] = \"1\"\n",
    "\n",
    " # Python Software Package Installation\n",
    "import sys\n",
    "# !{sys.executable} -m pip install adafruit-circuitpython-mlx90640 hidapi"
   ]
  },
  {
   "cell_type": "code",
   "execution_count": null,
   "metadata": {},
   "outputs": [
    {
     "ename": "",
     "evalue": "",
     "output_type": "error",
     "traceback": [
      "\u001b[1;31mFailed to start the Kernel. \n",
      "\u001b[1;31mThe kernel died. Error: ... View Jupyter <a href='command:jupyter.viewOutput'>log</a> for further details."
     ]
    }
   ],
   "source": [
    "import time\n",
    "import board\n",
    "import busio\n",
    "import adafruit_mlx90640\n",
    "import adafruit_tca9548a # multiplexer\n",
    "\n",
    "i2c = board.I2C()\n",
    "tca = adafruit_tca9548a.TCA9548A(i2c)\n",
    "\n",
    "mlx = adafruit_mlx90640.MLX90640(tca[0])\n",
    "print(\"MLX addr detected on I2C!\")\n",
    "\n",
    "# Set refresh rate\n",
    "mlx.refresh_rate = adafruit_mlx90640.RefreshRate.REFRESH_1_HZ\n",
    "print(\"MLX refresh rate: \", pow(2, (mlx.refresh_rate-1)), \"Hz\")"
   ]
  },
  {
   "cell_type": "code",
   "execution_count": null,
   "metadata": {},
   "outputs": [
    {
     "ename": "",
     "evalue": "",
     "output_type": "error",
     "traceback": [
      "\u001b[1;31mFailed to start the Kernel. \n",
      "\u001b[1;31mThe kernel died. Error: ... View Jupyter <a href='command:jupyter.viewOutput'>log</a> for further details."
     ]
    }
   ],
   "source": [
    "import numpy as np\n",
    "\n",
    "# read in frame from thermal camera and split into 32 x 24 numpy array of thermal readings\n",
    "frame = [0] * 768\n",
    "mlx.getFrame(frame)\n",
    "pixels = np.split(np.asarray(frame), 24)\n",
    "# rotate it around so its right side\n",
    "pixels = np.rot90(pixels, 3)\n",
    "print(len(pixels[0]), \"x\", len(pixels))"
   ]
  },
  {
   "cell_type": "code",
   "execution_count": null,
   "metadata": {},
   "outputs": [
    {
     "ename": "",
     "evalue": "",
     "output_type": "error",
     "traceback": [
      "\u001b[1;31mFailed to start the Kernel. \n",
      "\u001b[1;31mThe kernel died. Error: ... View Jupyter <a href='command:jupyter.viewOutput'>log</a> for further details."
     ]
    }
   ],
   "source": [
    "#%matplotlib notebook\n",
    "import math\n",
    "import time\n",
    "\n",
    "from scipy.interpolate import griddata\n",
    "import matplotlib.pyplot as plt\n",
    "import matplotlib.animation as animation\n",
    "\n",
    "grid_x, grid_y = np.mgrid[0:31:32j, 0:23:24j]\n",
    "\n",
    "plt.figure()\n",
    "plt.pcolormesh(grid_x, grid_y, pixels)\n",
    "plt.colorbar()\n",
    "plt.title(\"Original 32x24\")\n",
    "\n",
    "plt.show()"
   ]
  },
  {
   "cell_type": "code",
   "execution_count": null,
   "metadata": {},
   "outputs": [
    {
     "ename": "",
     "evalue": "",
     "output_type": "error",
     "traceback": [
      "\u001b[1;31mFailed to start the Kernel. \n",
      "\u001b[1;31mThe kernel died. Error: ... View Jupyter <a href='command:jupyter.viewOutput'>log</a> for further details."
     ]
    }
   ],
   "source": [
    "\"\"\"Animated MLX Thermal Camera Demo\n",
    "\"\"\"\n",
    "%matplotlib notebook\n",
    "\n",
    "# Set up plot\n",
    "fig, ax = plt.subplots()\n",
    "grid_x, grid_y = np.mgrid[0:31:32j, 0:23:24j]\n",
    "\n",
    "def animate(i):\n",
    "    # read in frame from thermal camera and split into 32 x 24 numpy array of thermal readings\n",
    "    frame = [0] * 768\n",
    "    mlx.getFrame(frame)\n",
    "    pixels = np.split(np.asarray(frame), 24)\n",
    "    # rotate it around so its right side\n",
    "    pixels = np.rot90(pixels, 3)\n",
    "    \n",
    "    # Clear the current figure\n",
    "    plt.clf()\n",
    "    \n",
    "    # Create a color plot with a rectangular grid\n",
    "    plt.pcolormesh(grid_x, grid_y, pixels)\n",
    "    plt.colorbar()\n",
    "    plt.title(\"Animated MLX Thermal Camera (32x24)\")\n",
    "    plt.show()\n",
    "    plt.pause(0.05)\n",
    "\n",
    "ani = animation.FuncAnimation(fig, animate)"
   ]
  }
 ],
 "metadata": {
  "kernelspec": {
   "display_name": "Python 3",
   "language": "python",
   "name": "python3"
  },
  "language_info": {
   "codemirror_mode": {
    "name": "ipython",
    "version": 3
   },
   "file_extension": ".py",
   "mimetype": "text/x-python",
   "name": "python",
   "nbconvert_exporter": "python",
   "pygments_lexer": "ipython3",
   "version": "3.9.2"
  }
 },
 "nbformat": 4,
 "nbformat_minor": 2
}
